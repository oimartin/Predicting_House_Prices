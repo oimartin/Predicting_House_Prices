{
 "cells": [
  {
   "cell_type": "code",
   "execution_count": 1,
   "metadata": {},
   "outputs": [],
   "source": [
    "import pandas as pd\n",
    "import matplotlib.pyplot as plt\n",
    "import numpy as np\n",
    "import seaborn as sns\n",
    "from sklearn.preprocessing import StandardScaler\n",
    "from sklearn.preprocessing import MinMaxScaler\n",
    "\n",
    "# read in training data set for housing prices\n",
    "train = pd.read_csv('train.csv')"
   ]
  },
  {
   "cell_type": "code",
   "execution_count": 2,
   "metadata": {},
   "outputs": [
    {
     "data": {
      "text/html": [
       "<div>\n",
       "<style scoped>\n",
       "    .dataframe tbody tr th:only-of-type {\n",
       "        vertical-align: middle;\n",
       "    }\n",
       "\n",
       "    .dataframe tbody tr th {\n",
       "        vertical-align: top;\n",
       "    }\n",
       "\n",
       "    .dataframe thead th {\n",
       "        text-align: right;\n",
       "    }\n",
       "</style>\n",
       "<table border=\"1\" class=\"dataframe\">\n",
       "  <thead>\n",
       "    <tr style=\"text-align: right;\">\n",
       "      <th></th>\n",
       "      <th>Column</th>\n",
       "      <th>Present</th>\n",
       "      <th>Missing</th>\n",
       "    </tr>\n",
       "  </thead>\n",
       "  <tbody>\n",
       "    <tr>\n",
       "      <th>0</th>\n",
       "      <td>Id</td>\n",
       "      <td>1460.0</td>\n",
       "      <td>NaN</td>\n",
       "    </tr>\n",
       "    <tr>\n",
       "      <th>46</th>\n",
       "      <td>GrLivArea</td>\n",
       "      <td>1460.0</td>\n",
       "      <td>NaN</td>\n",
       "    </tr>\n",
       "    <tr>\n",
       "      <th>52</th>\n",
       "      <td>KitchenAbvGr</td>\n",
       "      <td>1460.0</td>\n",
       "      <td>NaN</td>\n",
       "    </tr>\n",
       "    <tr>\n",
       "      <th>51</th>\n",
       "      <td>BedroomAbvGr</td>\n",
       "      <td>1460.0</td>\n",
       "      <td>NaN</td>\n",
       "    </tr>\n",
       "    <tr>\n",
       "      <th>50</th>\n",
       "      <td>HalfBath</td>\n",
       "      <td>1460.0</td>\n",
       "      <td>NaN</td>\n",
       "    </tr>\n",
       "    <tr>\n",
       "      <th>49</th>\n",
       "      <td>FullBath</td>\n",
       "      <td>1460.0</td>\n",
       "      <td>NaN</td>\n",
       "    </tr>\n",
       "    <tr>\n",
       "      <th>48</th>\n",
       "      <td>BsmtHalfBath</td>\n",
       "      <td>1460.0</td>\n",
       "      <td>NaN</td>\n",
       "    </tr>\n",
       "    <tr>\n",
       "      <th>47</th>\n",
       "      <td>BsmtFullBath</td>\n",
       "      <td>1460.0</td>\n",
       "      <td>NaN</td>\n",
       "    </tr>\n",
       "    <tr>\n",
       "      <th>45</th>\n",
       "      <td>LowQualFinSF</td>\n",
       "      <td>1460.0</td>\n",
       "      <td>NaN</td>\n",
       "    </tr>\n",
       "    <tr>\n",
       "      <th>54</th>\n",
       "      <td>TotRmsAbvGrd</td>\n",
       "      <td>1460.0</td>\n",
       "      <td>NaN</td>\n",
       "    </tr>\n",
       "    <tr>\n",
       "      <th>44</th>\n",
       "      <td>2ndFlrSF</td>\n",
       "      <td>1460.0</td>\n",
       "      <td>NaN</td>\n",
       "    </tr>\n",
       "    <tr>\n",
       "      <th>43</th>\n",
       "      <td>1stFlrSF</td>\n",
       "      <td>1460.0</td>\n",
       "      <td>NaN</td>\n",
       "    </tr>\n",
       "    <tr>\n",
       "      <th>41</th>\n",
       "      <td>CentralAir</td>\n",
       "      <td>1460.0</td>\n",
       "      <td>NaN</td>\n",
       "    </tr>\n",
       "    <tr>\n",
       "      <th>1</th>\n",
       "      <td>MSSubClass</td>\n",
       "      <td>1460.0</td>\n",
       "      <td>NaN</td>\n",
       "    </tr>\n",
       "    <tr>\n",
       "      <th>39</th>\n",
       "      <td>Heating</td>\n",
       "      <td>1460.0</td>\n",
       "      <td>NaN</td>\n",
       "    </tr>\n",
       "    <tr>\n",
       "      <th>38</th>\n",
       "      <td>TotalBsmtSF</td>\n",
       "      <td>1460.0</td>\n",
       "      <td>NaN</td>\n",
       "    </tr>\n",
       "    <tr>\n",
       "      <th>53</th>\n",
       "      <td>KitchenQual</td>\n",
       "      <td>1460.0</td>\n",
       "      <td>NaN</td>\n",
       "    </tr>\n",
       "    <tr>\n",
       "      <th>55</th>\n",
       "      <td>Functional</td>\n",
       "      <td>1460.0</td>\n",
       "      <td>NaN</td>\n",
       "    </tr>\n",
       "    <tr>\n",
       "      <th>36</th>\n",
       "      <td>BsmtFinSF2</td>\n",
       "      <td>1460.0</td>\n",
       "      <td>NaN</td>\n",
       "    </tr>\n",
       "    <tr>\n",
       "      <th>70</th>\n",
       "      <td>ScreenPorch</td>\n",
       "      <td>1460.0</td>\n",
       "      <td>NaN</td>\n",
       "    </tr>\n",
       "    <tr>\n",
       "      <th>79</th>\n",
       "      <td>SaleCondition</td>\n",
       "      <td>1460.0</td>\n",
       "      <td>NaN</td>\n",
       "    </tr>\n",
       "    <tr>\n",
       "      <th>78</th>\n",
       "      <td>SaleType</td>\n",
       "      <td>1460.0</td>\n",
       "      <td>NaN</td>\n",
       "    </tr>\n",
       "    <tr>\n",
       "      <th>77</th>\n",
       "      <td>YrSold</td>\n",
       "      <td>1460.0</td>\n",
       "      <td>NaN</td>\n",
       "    </tr>\n",
       "    <tr>\n",
       "      <th>76</th>\n",
       "      <td>MoSold</td>\n",
       "      <td>1460.0</td>\n",
       "      <td>NaN</td>\n",
       "    </tr>\n",
       "    <tr>\n",
       "      <th>75</th>\n",
       "      <td>MiscVal</td>\n",
       "      <td>1460.0</td>\n",
       "      <td>NaN</td>\n",
       "    </tr>\n",
       "    <tr>\n",
       "      <th>71</th>\n",
       "      <td>PoolArea</td>\n",
       "      <td>1460.0</td>\n",
       "      <td>NaN</td>\n",
       "    </tr>\n",
       "    <tr>\n",
       "      <th>69</th>\n",
       "      <td>3SsnPorch</td>\n",
       "      <td>1460.0</td>\n",
       "      <td>NaN</td>\n",
       "    </tr>\n",
       "    <tr>\n",
       "      <th>56</th>\n",
       "      <td>Fireplaces</td>\n",
       "      <td>1460.0</td>\n",
       "      <td>NaN</td>\n",
       "    </tr>\n",
       "    <tr>\n",
       "      <th>68</th>\n",
       "      <td>EnclosedPorch</td>\n",
       "      <td>1460.0</td>\n",
       "      <td>NaN</td>\n",
       "    </tr>\n",
       "    <tr>\n",
       "      <th>67</th>\n",
       "      <td>OpenPorchSF</td>\n",
       "      <td>1460.0</td>\n",
       "      <td>NaN</td>\n",
       "    </tr>\n",
       "    <tr>\n",
       "      <th>66</th>\n",
       "      <td>WoodDeckSF</td>\n",
       "      <td>1460.0</td>\n",
       "      <td>NaN</td>\n",
       "    </tr>\n",
       "    <tr>\n",
       "      <th>65</th>\n",
       "      <td>PavedDrive</td>\n",
       "      <td>1460.0</td>\n",
       "      <td>NaN</td>\n",
       "    </tr>\n",
       "    <tr>\n",
       "      <th>62</th>\n",
       "      <td>GarageArea</td>\n",
       "      <td>1460.0</td>\n",
       "      <td>NaN</td>\n",
       "    </tr>\n",
       "    <tr>\n",
       "      <th>61</th>\n",
       "      <td>GarageCars</td>\n",
       "      <td>1460.0</td>\n",
       "      <td>NaN</td>\n",
       "    </tr>\n",
       "    <tr>\n",
       "      <th>37</th>\n",
       "      <td>BsmtUnfSF</td>\n",
       "      <td>1460.0</td>\n",
       "      <td>NaN</td>\n",
       "    </tr>\n",
       "    <tr>\n",
       "      <th>40</th>\n",
       "      <td>HeatingQC</td>\n",
       "      <td>1460.0</td>\n",
       "      <td>NaN</td>\n",
       "    </tr>\n",
       "    <tr>\n",
       "      <th>80</th>\n",
       "      <td>SalePrice</td>\n",
       "      <td>1460.0</td>\n",
       "      <td>NaN</td>\n",
       "    </tr>\n",
       "    <tr>\n",
       "      <th>10</th>\n",
       "      <td>LotConfig</td>\n",
       "      <td>1460.0</td>\n",
       "      <td>NaN</td>\n",
       "    </tr>\n",
       "    <tr>\n",
       "      <th>12</th>\n",
       "      <td>Neighborhood</td>\n",
       "      <td>1460.0</td>\n",
       "      <td>NaN</td>\n",
       "    </tr>\n",
       "    <tr>\n",
       "      <th>13</th>\n",
       "      <td>Condition1</td>\n",
       "      <td>1460.0</td>\n",
       "      <td>NaN</td>\n",
       "    </tr>\n",
       "    <tr>\n",
       "      <th>9</th>\n",
       "      <td>Utilities</td>\n",
       "      <td>1460.0</td>\n",
       "      <td>NaN</td>\n",
       "    </tr>\n",
       "    <tr>\n",
       "      <th>8</th>\n",
       "      <td>LandContour</td>\n",
       "      <td>1460.0</td>\n",
       "      <td>NaN</td>\n",
       "    </tr>\n",
       "    <tr>\n",
       "      <th>14</th>\n",
       "      <td>Condition2</td>\n",
       "      <td>1460.0</td>\n",
       "      <td>NaN</td>\n",
       "    </tr>\n",
       "    <tr>\n",
       "      <th>15</th>\n",
       "      <td>BldgType</td>\n",
       "      <td>1460.0</td>\n",
       "      <td>NaN</td>\n",
       "    </tr>\n",
       "    <tr>\n",
       "      <th>7</th>\n",
       "      <td>LotShape</td>\n",
       "      <td>1460.0</td>\n",
       "      <td>NaN</td>\n",
       "    </tr>\n",
       "    <tr>\n",
       "      <th>5</th>\n",
       "      <td>Street</td>\n",
       "      <td>1460.0</td>\n",
       "      <td>NaN</td>\n",
       "    </tr>\n",
       "    <tr>\n",
       "      <th>34</th>\n",
       "      <td>BsmtFinSF1</td>\n",
       "      <td>1460.0</td>\n",
       "      <td>NaN</td>\n",
       "    </tr>\n",
       "    <tr>\n",
       "      <th>4</th>\n",
       "      <td>LotArea</td>\n",
       "      <td>1460.0</td>\n",
       "      <td>NaN</td>\n",
       "    </tr>\n",
       "    <tr>\n",
       "      <th>16</th>\n",
       "      <td>HouseStyle</td>\n",
       "      <td>1460.0</td>\n",
       "      <td>NaN</td>\n",
       "    </tr>\n",
       "    <tr>\n",
       "      <th>17</th>\n",
       "      <td>OverallQual</td>\n",
       "      <td>1460.0</td>\n",
       "      <td>NaN</td>\n",
       "    </tr>\n",
       "  </tbody>\n",
       "</table>\n",
       "</div>"
      ],
      "text/plain": [
       "           Column  Present  Missing\n",
       "0              Id   1460.0      NaN\n",
       "46      GrLivArea   1460.0      NaN\n",
       "52   KitchenAbvGr   1460.0      NaN\n",
       "51   BedroomAbvGr   1460.0      NaN\n",
       "50       HalfBath   1460.0      NaN\n",
       "49       FullBath   1460.0      NaN\n",
       "48   BsmtHalfBath   1460.0      NaN\n",
       "47   BsmtFullBath   1460.0      NaN\n",
       "45   LowQualFinSF   1460.0      NaN\n",
       "54   TotRmsAbvGrd   1460.0      NaN\n",
       "44       2ndFlrSF   1460.0      NaN\n",
       "43       1stFlrSF   1460.0      NaN\n",
       "41     CentralAir   1460.0      NaN\n",
       "1      MSSubClass   1460.0      NaN\n",
       "39        Heating   1460.0      NaN\n",
       "38    TotalBsmtSF   1460.0      NaN\n",
       "53    KitchenQual   1460.0      NaN\n",
       "55     Functional   1460.0      NaN\n",
       "36     BsmtFinSF2   1460.0      NaN\n",
       "70    ScreenPorch   1460.0      NaN\n",
       "79  SaleCondition   1460.0      NaN\n",
       "78       SaleType   1460.0      NaN\n",
       "77         YrSold   1460.0      NaN\n",
       "76         MoSold   1460.0      NaN\n",
       "75        MiscVal   1460.0      NaN\n",
       "71       PoolArea   1460.0      NaN\n",
       "69      3SsnPorch   1460.0      NaN\n",
       "56     Fireplaces   1460.0      NaN\n",
       "68  EnclosedPorch   1460.0      NaN\n",
       "67    OpenPorchSF   1460.0      NaN\n",
       "66     WoodDeckSF   1460.0      NaN\n",
       "65     PavedDrive   1460.0      NaN\n",
       "62     GarageArea   1460.0      NaN\n",
       "61     GarageCars   1460.0      NaN\n",
       "37      BsmtUnfSF   1460.0      NaN\n",
       "40      HeatingQC   1460.0      NaN\n",
       "80      SalePrice   1460.0      NaN\n",
       "10      LotConfig   1460.0      NaN\n",
       "12   Neighborhood   1460.0      NaN\n",
       "13     Condition1   1460.0      NaN\n",
       "9       Utilities   1460.0      NaN\n",
       "8     LandContour   1460.0      NaN\n",
       "14     Condition2   1460.0      NaN\n",
       "15       BldgType   1460.0      NaN\n",
       "7        LotShape   1460.0      NaN\n",
       "5          Street   1460.0      NaN\n",
       "34     BsmtFinSF1   1460.0      NaN\n",
       "4         LotArea   1460.0      NaN\n",
       "16     HouseStyle   1460.0      NaN\n",
       "17    OverallQual   1460.0      NaN"
      ]
     },
     "execution_count": 2,
     "metadata": {},
     "output_type": "execute_result"
    }
   ],
   "source": [
    "# Show na values for 50 columns with least NaN values\n",
    "train_na = pd.DataFrame([train.isna()[column].value_counts() \n",
    "                         for column in train.columns]).reset_index()\n",
    "train_na.rename(columns={'index':'Column',\n",
    "                         0:'Present',\n",
    "                         1:'Missing'}).sort_values(by='Present',\n",
    "                                                   ascending=False).head(50)"
   ]
  },
  {
   "cell_type": "code",
   "execution_count": 3,
   "metadata": {},
   "outputs": [
    {
     "data": {
      "text/html": [
       "<div>\n",
       "<style scoped>\n",
       "    .dataframe tbody tr th:only-of-type {\n",
       "        vertical-align: middle;\n",
       "    }\n",
       "\n",
       "    .dataframe tbody tr th {\n",
       "        vertical-align: top;\n",
       "    }\n",
       "\n",
       "    .dataframe thead th {\n",
       "        text-align: right;\n",
       "    }\n",
       "</style>\n",
       "<table border=\"1\" class=\"dataframe\">\n",
       "  <thead>\n",
       "    <tr style=\"text-align: right;\">\n",
       "      <th></th>\n",
       "      <th>Column</th>\n",
       "      <th>Present</th>\n",
       "      <th>Missing</th>\n",
       "    </tr>\n",
       "  </thead>\n",
       "  <tbody>\n",
       "    <tr>\n",
       "      <th>72</th>\n",
       "      <td>PoolQC</td>\n",
       "      <td>7.0</td>\n",
       "      <td>1453.0</td>\n",
       "    </tr>\n",
       "    <tr>\n",
       "      <th>74</th>\n",
       "      <td>MiscFeature</td>\n",
       "      <td>54.0</td>\n",
       "      <td>1406.0</td>\n",
       "    </tr>\n",
       "    <tr>\n",
       "      <th>6</th>\n",
       "      <td>Alley</td>\n",
       "      <td>91.0</td>\n",
       "      <td>1369.0</td>\n",
       "    </tr>\n",
       "    <tr>\n",
       "      <th>73</th>\n",
       "      <td>Fence</td>\n",
       "      <td>281.0</td>\n",
       "      <td>1179.0</td>\n",
       "    </tr>\n",
       "    <tr>\n",
       "      <th>57</th>\n",
       "      <td>FireplaceQu</td>\n",
       "      <td>770.0</td>\n",
       "      <td>690.0</td>\n",
       "    </tr>\n",
       "    <tr>\n",
       "      <th>3</th>\n",
       "      <td>LotFrontage</td>\n",
       "      <td>1201.0</td>\n",
       "      <td>259.0</td>\n",
       "    </tr>\n",
       "    <tr>\n",
       "      <th>58</th>\n",
       "      <td>GarageType</td>\n",
       "      <td>1379.0</td>\n",
       "      <td>81.0</td>\n",
       "    </tr>\n",
       "    <tr>\n",
       "      <th>59</th>\n",
       "      <td>GarageYrBlt</td>\n",
       "      <td>1379.0</td>\n",
       "      <td>81.0</td>\n",
       "    </tr>\n",
       "    <tr>\n",
       "      <th>60</th>\n",
       "      <td>GarageFinish</td>\n",
       "      <td>1379.0</td>\n",
       "      <td>81.0</td>\n",
       "    </tr>\n",
       "    <tr>\n",
       "      <th>63</th>\n",
       "      <td>GarageQual</td>\n",
       "      <td>1379.0</td>\n",
       "      <td>81.0</td>\n",
       "    </tr>\n",
       "    <tr>\n",
       "      <th>64</th>\n",
       "      <td>GarageCond</td>\n",
       "      <td>1379.0</td>\n",
       "      <td>81.0</td>\n",
       "    </tr>\n",
       "    <tr>\n",
       "      <th>32</th>\n",
       "      <td>BsmtExposure</td>\n",
       "      <td>1422.0</td>\n",
       "      <td>38.0</td>\n",
       "    </tr>\n",
       "    <tr>\n",
       "      <th>35</th>\n",
       "      <td>BsmtFinType2</td>\n",
       "      <td>1422.0</td>\n",
       "      <td>38.0</td>\n",
       "    </tr>\n",
       "    <tr>\n",
       "      <th>33</th>\n",
       "      <td>BsmtFinType1</td>\n",
       "      <td>1423.0</td>\n",
       "      <td>37.0</td>\n",
       "    </tr>\n",
       "    <tr>\n",
       "      <th>31</th>\n",
       "      <td>BsmtCond</td>\n",
       "      <td>1423.0</td>\n",
       "      <td>37.0</td>\n",
       "    </tr>\n",
       "    <tr>\n",
       "      <th>30</th>\n",
       "      <td>BsmtQual</td>\n",
       "      <td>1423.0</td>\n",
       "      <td>37.0</td>\n",
       "    </tr>\n",
       "    <tr>\n",
       "      <th>26</th>\n",
       "      <td>MasVnrArea</td>\n",
       "      <td>1452.0</td>\n",
       "      <td>8.0</td>\n",
       "    </tr>\n",
       "    <tr>\n",
       "      <th>25</th>\n",
       "      <td>MasVnrType</td>\n",
       "      <td>1452.0</td>\n",
       "      <td>8.0</td>\n",
       "    </tr>\n",
       "    <tr>\n",
       "      <th>42</th>\n",
       "      <td>Electrical</td>\n",
       "      <td>1459.0</td>\n",
       "      <td>1.0</td>\n",
       "    </tr>\n",
       "    <tr>\n",
       "      <th>0</th>\n",
       "      <td>Id</td>\n",
       "      <td>1460.0</td>\n",
       "      <td>NaN</td>\n",
       "    </tr>\n",
       "  </tbody>\n",
       "</table>\n",
       "</div>"
      ],
      "text/plain": [
       "          Column  Present  Missing\n",
       "72        PoolQC      7.0   1453.0\n",
       "74   MiscFeature     54.0   1406.0\n",
       "6          Alley     91.0   1369.0\n",
       "73         Fence    281.0   1179.0\n",
       "57   FireplaceQu    770.0    690.0\n",
       "3    LotFrontage   1201.0    259.0\n",
       "58    GarageType   1379.0     81.0\n",
       "59   GarageYrBlt   1379.0     81.0\n",
       "60  GarageFinish   1379.0     81.0\n",
       "63    GarageQual   1379.0     81.0\n",
       "64    GarageCond   1379.0     81.0\n",
       "32  BsmtExposure   1422.0     38.0\n",
       "35  BsmtFinType2   1422.0     38.0\n",
       "33  BsmtFinType1   1423.0     37.0\n",
       "31      BsmtCond   1423.0     37.0\n",
       "30      BsmtQual   1423.0     37.0\n",
       "26    MasVnrArea   1452.0      8.0\n",
       "25    MasVnrType   1452.0      8.0\n",
       "42    Electrical   1459.0      1.0\n",
       "0             Id   1460.0      NaN"
      ]
     },
     "execution_count": 3,
     "metadata": {},
     "output_type": "execute_result"
    }
   ],
   "source": [
    "# Show 20 columns with the most missing values\n",
    "top_20_na = train_na.rename(columns={'index':'Column',\n",
    "                             0:'Present',\n",
    "                             1:'Missing'}).sort_values(by='Missing',\n",
    "                                                       ascending=False).head(20)\n",
    "top_20_na"
   ]
  },
  {
   "cell_type": "code",
   "execution_count": 4,
   "metadata": {
    "scrolled": true
   },
   "outputs": [
    {
     "data": {
      "image/png": "[encoded data removed]",
      "text/plain": [
       "<Figure size 792x720 with 1 Axes>"
      ]
     },
     "metadata": {},
     "output_type": "display_data"
    }
   ],
   "source": [
    "sns.set_theme(color_codes=True)\n",
    "\n",
    "# Create barplot of 20 columns with the most missing data\n",
    "plt.figure(figsize=(11,10), frameon=False)\n",
    "sns.set_color_codes(\"pastel\")\n",
    "ax = sns.barplot(x=\"Present\", y=\"Column\", data=top_20_na,\n",
    "            label=\"Present\", color=\"orange\")\n",
    "\n",
    "sns.set_color_codes(\"muted\")\n",
    "ax = sns.barplot(x=\"Missing\", y=\"Column\", data=top_20_na,\n",
    "           label='Missing', color='silver')\n",
    "\n",
    "ax.legend()\n",
    "sns.move_legend(ax, \"upper left\", bbox_to_anchor=(1,1))\n",
    "plt.xlabel('Rows')\n",
    "plt.ylabel('Train Data Columns with the Most NaNs')\n",
    "ax.figure.savefig('figures/missing_data.png')\n",
    "plt.tight_layout()\n"
   ]
  },
  {
   "cell_type": "code",
   "execution_count": 5,
   "metadata": {},
   "outputs": [
    {
     "data": {
      "text/plain": [
       "Text(0, 0.5, 'Variable Correlation \\nto Sale Price')"
      ]
     },
     "execution_count": 5,
     "metadata": {},
     "output_type": "execute_result"
    },
    {
     "data": {
      "image/png": "[encoded data removed]",
      "text/plain": [
       "<Figure size 432x288 with 1 Axes>"
      ]
     },
     "metadata": {},
     "output_type": "display_data"
    }
   ],
   "source": [
    "# find correlations between variables and save only 'SalePrice' col\n",
    "SalePrice_corr_train = train.corr()['SalePrice'] \n",
    "\n",
    "# Create barplot of all columns with numerical values correlation to saleprice\n",
    "sns.set_theme(color_codes=True)\n",
    "sns.boxplot(data=SalePrice_corr_train[:37], orient='h', width=0.4,\n",
    "           color='coral')\n",
    "plt.ylabel('Variable Correlation \\nto Sale Price')"
   ]
  },
  {
   "cell_type": "code",
   "execution_count": 6,
   "metadata": {},
   "outputs": [
    {
     "data": {
      "text/plain": [
       "count    37.000000\n",
       "mean      0.273946\n",
       "std       0.270706\n",
       "min      -0.135907\n",
       "25%      -0.011378\n",
       "50%       0.284108\n",
       "75%       0.507101\n",
       "max       0.790982\n",
       "Name: SalePrice, dtype: float64"
      ]
     },
     "execution_count": 6,
     "metadata": {},
     "output_type": "execute_result"
    }
   ],
   "source": [
    "SalePrice_corr_train[:37].describe()"
   ]
  },
  {
   "cell_type": "code",
   "execution_count": 7,
   "metadata": {},
   "outputs": [
    {
     "data": {
      "text/plain": [
       "KitchenAbvGr    -0.135907\n",
       "EnclosedPorch   -0.128578\n",
       "MSSubClass      -0.084284\n",
       "OverallCond     -0.077856\n",
       "YrSold          -0.028923\n",
       "LowQualFinSF    -0.025606\n",
       "Id              -0.021917\n",
       "MiscVal         -0.021190\n",
       "BsmtHalfBath    -0.016844\n",
       "BsmtFinSF2      -0.011378\n",
       "YearBuilt        0.522897\n",
       "TotRmsAbvGrd     0.533723\n",
       "FullBath         0.560664\n",
       "1stFlrSF         0.605852\n",
       "TotalBsmtSF      0.613581\n",
       "GarageArea       0.623431\n",
       "GarageCars       0.640409\n",
       "GrLivArea        0.708624\n",
       "OverallQual      0.790982\n",
       "Name: SalePrice, dtype: float64"
      ]
     },
     "execution_count": 7,
     "metadata": {},
     "output_type": "execute_result"
    }
   ],
   "source": [
    "# Create list of top 25% and bottom 25% of\n",
    "# columns with numerical value correlations to Sale Price\n",
    "SalePrice_corr_train_quarters = SalePrice_corr_train[((SalePrice_corr_train >= 0.507101) \n",
    "                      & (SalePrice_corr_train !=1)) \n",
    "                     | (SalePrice_corr_train <= -0.011378)]\n",
    "SalePrice_corr_train_quarters.sort_values()"
   ]
  },
  {
   "cell_type": "code",
   "execution_count": 8,
   "metadata": {},
   "outputs": [
    {
     "name": "stdout",
     "output_type": "stream",
     "text": [
      "OverallQual\n"
     ]
    },
    {
     "data": {
      "image/png": "[encoded data removed]",
      "text/plain": [
       "<Figure size 576x648 with 1 Axes>"
      ]
     },
     "metadata": {},
     "output_type": "display_data"
    },
    {
     "name": "stdout",
     "output_type": "stream",
     "text": [
      "KitchenAbvGr\n"
     ]
    },
    {
     "data": {
      "text/plain": [
       "<Figure size 432x288 with 0 Axes>"
      ]
     },
     "metadata": {},
     "output_type": "display_data"
    },
    {
     "data": {
      "image/png": "[encoded data removed]",
      "text/plain": [
       "<Figure size 576x648 with 1 Axes>"
      ]
     },
     "metadata": {},
     "output_type": "display_data"
    },
    {
     "name": "stdout",
     "output_type": "stream",
     "text": [
      "TotRmsAbvGrd\n"
     ]
    },
    {
     "data": {
      "text/plain": [
       "<Figure size 432x288 with 0 Axes>"
      ]
     },
     "metadata": {},
     "output_type": "display_data"
    },
    {
     "data": {
      "image/png": "[encoded data removed]",
      "text/plain": [
       "<Figure size 576x648 with 1 Axes>"
      ]
     },
     "metadata": {},
     "output_type": "display_data"
    },
    {
     "data": {
      "text/plain": [
       "<Figure size 432x288 with 0 Axes>"
      ]
     },
     "metadata": {},
     "output_type": "display_data"
    }
   ],
   "source": [
    "sns.set_theme(color_codes=True)\n",
    "of_interest = ['ExterQual', 'GarageFinish', 'OverallQual',\n",
    "               'TotRmsAbvGrd', 'KitchenAbvGr']\n",
    "\n",
    "for column in list(SalePrice_corr_train_quarters.index):\n",
    "    for variable in of_interest:\n",
    "        if column == variable:\n",
    "            if len(train[column].value_counts()) < 50:\n",
    "                print(f\"{column}\")\n",
    "                plt.figure(figsize=(8,9), frameon=False)\n",
    "                box = sns.boxplot(data=train, x=column, y='SalePrice')\n",
    "                plt.title(f\"Training Data: Predicting Sale Price by {column}\")\n",
    "                plt.show()\n",
    "                box.figure.savefig(f\"figures/boxplot_{column}.png\")\n",
    "                plt.tight_layout()\n",
    "            else:\n",
    "                print(f\"{column}\")\n",
    "                plt.figure(figsize=(8,9), frameon=False)\n",
    "                lmplot = sns.lmplot(data=train, x=column, y='SalePrice')\n",
    "                plt.title(f\"Training Data: Predicting Sale Price by {column}\")\n",
    "                plt.show()\n",
    "                lmplot.figure.savefig(f\"figures/lmplot_{column}.png\")\n",
    "                plt.tight_layout()\n"
   ]
  },
  {
   "cell_type": "code",
   "execution_count": 9,
   "metadata": {},
   "outputs": [
    {
     "name": "stdout",
     "output_type": "stream",
     "text": [
      "OverallQual\n"
     ]
    },
    {
     "data": {
      "text/plain": [
       "<Figure size 1152x1152 with 0 Axes>"
      ]
     },
     "metadata": {},
     "output_type": "display_data"
    },
    {
     "data": {
      "image/png": "[encoded data removed]",
      "text/plain": [
       "<Figure size 360x360 with 1 Axes>"
      ]
     },
     "metadata": {},
     "output_type": "display_data"
    },
    {
     "name": "stdout",
     "output_type": "stream",
     "text": [
      "KitchenAbvGr\n"
     ]
    },
    {
     "data": {
      "text/plain": [
       "<Figure size 432x288 with 0 Axes>"
      ]
     },
     "metadata": {},
     "output_type": "display_data"
    },
    {
     "data": {
      "text/plain": [
       "<Figure size 1152x1152 with 0 Axes>"
      ]
     },
     "metadata": {},
     "output_type": "display_data"
    },
    {
     "data": {
      "image/png": "[encoded data removed]",
      "text/plain": [
       "<Figure size 360x360 with 1 Axes>"
      ]
     },
     "metadata": {},
     "output_type": "display_data"
    },
    {
     "name": "stdout",
     "output_type": "stream",
     "text": [
      "TotRmsAbvGrd\n"
     ]
    },
    {
     "data": {
      "text/plain": [
       "<Figure size 432x288 with 0 Axes>"
      ]
     },
     "metadata": {},
     "output_type": "display_data"
    },
    {
     "data": {
      "text/plain": [
       "<Figure size 1152x1152 with 0 Axes>"
      ]
     },
     "metadata": {},
     "output_type": "display_data"
    },
    {
     "data": {
      "image/png": "[encoded data removed]",
      "text/plain": [
       "<Figure size 360x360 with 1 Axes>"
      ]
     },
     "metadata": {},
     "output_type": "display_data"
    },
    {
     "data": {
      "text/plain": [
       "<Figure size 432x288 with 0 Axes>"
      ]
     },
     "metadata": {},
     "output_type": "display_data"
    }
   ],
   "source": [
    "sns.set_theme(color_codes=True)\n",
    "\n",
    "for column in list(SalePrice_corr_train_quarters.index):\n",
    "    for variable in of_interest:\n",
    "        if column == variable:\n",
    "            print(f\"{column}\")\n",
    "            plt.figure(figsize=(16,16), frameon=False)\n",
    "            g = sns.lmplot(data=train, x=column, y='SalePrice')\n",
    "            plt.title(f\"Training Data: Predicting Sale Price by {column}\")\n",
    "            plt.show()\n",
    "            g.figure.savefig(f\"figures/lmplot_{column}.png\")\n",
    "            plt.tight_layout()"
   ]
  },
  {
   "cell_type": "code",
   "execution_count": 10,
   "metadata": {},
   "outputs": [
    {
     "name": "stdout",
     "output_type": "stream",
     "text": [
      "OverallQual\n"
     ]
    },
    {
     "data": {
      "text/plain": [
       "count    1460.000000\n",
       "mean        6.099315\n",
       "std         1.382997\n",
       "min         1.000000\n",
       "25%         5.000000\n",
       "50%         6.000000\n",
       "75%         7.000000\n",
       "max        10.000000\n",
       "Name: OverallQual, dtype: float64"
      ]
     },
     "metadata": {},
     "output_type": "display_data"
    },
    {
     "name": "stdout",
     "output_type": "stream",
     "text": [
      "ExterQual\n"
     ]
    },
    {
     "data": {
      "text/plain": [
       "count     1460\n",
       "unique       4\n",
       "top         TA\n",
       "freq       906\n",
       "Name: ExterQual, dtype: object"
      ]
     },
     "metadata": {},
     "output_type": "display_data"
    },
    {
     "name": "stdout",
     "output_type": "stream",
     "text": [
      "KitchenAbvGr\n"
     ]
    },
    {
     "data": {
      "text/plain": [
       "count    1460.000000\n",
       "mean        1.046575\n",
       "std         0.220338\n",
       "min         0.000000\n",
       "25%         1.000000\n",
       "50%         1.000000\n",
       "75%         1.000000\n",
       "max         3.000000\n",
       "Name: KitchenAbvGr, dtype: float64"
      ]
     },
     "metadata": {},
     "output_type": "display_data"
    },
    {
     "name": "stdout",
     "output_type": "stream",
     "text": [
      "TotRmsAbvGrd\n"
     ]
    },
    {
     "data": {
      "text/plain": [
       "count    1460.000000\n",
       "mean        6.517808\n",
       "std         1.625393\n",
       "min         2.000000\n",
       "25%         5.000000\n",
       "50%         6.000000\n",
       "75%         7.000000\n",
       "max        14.000000\n",
       "Name: TotRmsAbvGrd, dtype: float64"
      ]
     },
     "metadata": {},
     "output_type": "display_data"
    },
    {
     "name": "stdout",
     "output_type": "stream",
     "text": [
      "GarageFinish\n"
     ]
    },
    {
     "data": {
      "text/plain": [
       "count     1379\n",
       "unique       3\n",
       "top        Unf\n",
       "freq       605\n",
       "Name: GarageFinish, dtype: object"
      ]
     },
     "metadata": {},
     "output_type": "display_data"
    },
    {
     "name": "stdout",
     "output_type": "stream",
     "text": [
      "SalePrice\n"
     ]
    },
    {
     "data": {
      "text/plain": [
       "count      1460.000000\n",
       "mean     180921.195890\n",
       "std       79442.502883\n",
       "min       34900.000000\n",
       "25%      129975.000000\n",
       "50%      163000.000000\n",
       "75%      214000.000000\n",
       "max      755000.000000\n",
       "Name: SalePrice, dtype: float64"
      ]
     },
     "metadata": {},
     "output_type": "display_data"
    }
   ],
   "source": [
    "for column in train.columns:\n",
    "    for variable in of_interest+['SalePrice']:\n",
    "        if column == variable:\n",
    "            print(f\"{column}\")\n",
    "            display(train[column].describe())"
   ]
  },
  {
   "cell_type": "code",
   "execution_count": 11,
   "metadata": {},
   "outputs": [
    {
     "name": "stdout",
     "output_type": "stream",
     "text": [
      "OverallQual\n"
     ]
    },
    {
     "data": {
      "text/plain": [
       "<Figure size 1008x1008 with 0 Axes>"
      ]
     },
     "metadata": {},
     "output_type": "display_data"
    },
    {
     "data": {
      "image/png": "[encoded data removed]",
      "text/plain": [
       "<Figure size 360x360 with 1 Axes>"
      ]
     },
     "metadata": {},
     "output_type": "display_data"
    },
    {
     "name": "stdout",
     "output_type": "stream",
     "text": [
      "ExterQual\n"
     ]
    },
    {
     "data": {
      "text/plain": [
       "<Figure size 432x288 with 0 Axes>"
      ]
     },
     "metadata": {},
     "output_type": "display_data"
    },
    {
     "data": {
      "text/plain": [
       "<Figure size 1008x1008 with 0 Axes>"
      ]
     },
     "metadata": {},
     "output_type": "display_data"
    },
    {
     "data": {
      "image/png": "[encoded data removed]",
      "text/plain": [
       "<Figure size 360x360 with 1 Axes>"
      ]
     },
     "metadata": {},
     "output_type": "display_data"
    },
    {
     "name": "stdout",
     "output_type": "stream",
     "text": [
      "KitchenAbvGr\n"
     ]
    },
    {
     "data": {
      "text/plain": [
       "<Figure size 432x288 with 0 Axes>"
      ]
     },
     "metadata": {},
     "output_type": "display_data"
    },
    {
     "data": {
      "text/plain": [
       "<Figure size 1008x1008 with 0 Axes>"
      ]
     },
     "metadata": {},
     "output_type": "display_data"
    },
    {
     "data": {
      "image/png": "[encoded data removed]",
      "text/plain": [
       "<Figure size 360x360 with 1 Axes>"
      ]
     },
     "metadata": {},
     "output_type": "display_data"
    },
    {
     "name": "stdout",
     "output_type": "stream",
     "text": [
      "TotRmsAbvGrd\n"
     ]
    },
    {
     "data": {
      "text/plain": [
       "<Figure size 432x288 with 0 Axes>"
      ]
     },
     "metadata": {},
     "output_type": "display_data"
    },
    {
     "data": {
      "text/plain": [
       "<Figure size 1008x1008 with 0 Axes>"
      ]
     },
     "metadata": {},
     "output_type": "display_data"
    },
    {
     "data": {
      "image/png": "[encoded data removed]",
      "text/plain": [
       "<Figure size 360x360 with 1 Axes>"
      ]
     },
     "metadata": {},
     "output_type": "display_data"
    },
    {
     "name": "stdout",
     "output_type": "stream",
     "text": [
      "GarageFinish\n"
     ]
    },
    {
     "data": {
      "text/plain": [
       "<Figure size 432x288 with 0 Axes>"
      ]
     },
     "metadata": {},
     "output_type": "display_data"
    },
    {
     "data": {
      "text/plain": [
       "<Figure size 1008x1008 with 0 Axes>"
      ]
     },
     "metadata": {},
     "output_type": "display_data"
    },
    {
     "data": {
      "image/png": "[encoded data removed]",
      "text/plain": [
       "<Figure size 360x360 with 1 Axes>"
      ]
     },
     "metadata": {},
     "output_type": "display_data"
    },
    {
     "name": "stdout",
     "output_type": "stream",
     "text": [
      "SalePrice\n"
     ]
    },
    {
     "data": {
      "text/plain": [
       "<Figure size 432x288 with 0 Axes>"
      ]
     },
     "metadata": {},
     "output_type": "display_data"
    },
    {
     "data": {
      "text/plain": [
       "<Figure size 1008x1008 with 0 Axes>"
      ]
     },
     "metadata": {},
     "output_type": "display_data"
    },
    {
     "data": {
      "image/png": "[encoded data removed]",
      "text/plain": [
       "<Figure size 360x360 with 1 Axes>"
      ]
     },
     "metadata": {},
     "output_type": "display_data"
    },
    {
     "data": {
      "text/plain": [
       "<Figure size 432x288 with 0 Axes>"
      ]
     },
     "metadata": {},
     "output_type": "display_data"
    }
   ],
   "source": [
    "sns.set_theme(color_codes=True)\n",
    "\n",
    "for column in train.columns:\n",
    "    for variable in of_interest+['SalePrice']:\n",
    "        if column == variable:\n",
    "            print(f\"{column}\")\n",
    "            plt.figure(figsize=(14,14), frameon=False)\n",
    "            s = sns.displot(train[column])\n",
    "            plt.title(f\"Count of {column}\")\n",
    "            plt.show()\n",
    "            s.figure.savefig(f\"figures/histogram_{column}.png\")\n",
    "            plt.tight_layout()"
   ]
  },
  {
   "cell_type": "code",
   "execution_count": 12,
   "metadata": {},
   "outputs": [],
   "source": [
    "non_numerical_col = list(set(train.columns) - set(train.corr().columns))"
   ]
  },
  {
   "cell_type": "code",
   "execution_count": 13,
   "metadata": {
    "scrolled": false
   },
   "outputs": [
    {
     "name": "stdout",
     "output_type": "stream",
     "text": [
      "ExterQual\n"
     ]
    },
    {
     "data": {
      "text/plain": [
       "<Figure size 1080x1080 with 0 Axes>"
      ]
     },
     "metadata": {},
     "output_type": "display_data"
    },
    {
     "data": {
      "image/png": "[encoded data removed]",
      "text/plain": [
       "<Figure size 432x288 with 1 Axes>"
      ]
     },
     "metadata": {},
     "output_type": "display_data"
    },
    {
     "name": "stdout",
     "output_type": "stream",
     "text": [
      "GarageFinish\n"
     ]
    },
    {
     "data": {
      "text/plain": [
       "<Figure size 1080x1080 with 0 Axes>"
      ]
     },
     "metadata": {},
     "output_type": "display_data"
    },
    {
     "data": {
      "image/png": "[encoded data removed]",
      "text/plain": [
       "<Figure size 432x288 with 1 Axes>"
      ]
     },
     "metadata": {},
     "output_type": "display_data"
    }
   ],
   "source": [
    "for column in non_numerical_col:\n",
    "    for variable in of_interest:\n",
    "        if column == variable:\n",
    "            print(f\"{column}\")\n",
    "            plt.figure(figsize=(15,15), frameon=False)\n",
    "            column_grouped = train['SalePrice'].groupby(train[column]).agg(['min', 'median', 'mean', 'max']).reset_index()\n",
    "            grp_bar = column_grouped.plot.bar(x=column, rot=0.3)\n",
    "            plt.ylabel('Sale Price')\n",
    "            plt.title(f\"Sale Price by {column}\")\n",
    "            plt.show()\n",
    "            grp_bar.figure.savefig(f\"figures/histogram_grouped_{column}_sale_price.png\")"
   ]
  },
  {
   "cell_type": "code",
   "execution_count": 14,
   "metadata": {},
   "outputs": [
    {
     "data": {
      "text/html": [
       "<div>\n",
       "<style scoped>\n",
       "    .dataframe tbody tr th:only-of-type {\n",
       "        vertical-align: middle;\n",
       "    }\n",
       "\n",
       "    .dataframe tbody tr th {\n",
       "        vertical-align: top;\n",
       "    }\n",
       "\n",
       "    .dataframe thead th {\n",
       "        text-align: right;\n",
       "    }\n",
       "</style>\n",
       "<table border=\"1\" class=\"dataframe\">\n",
       "  <thead>\n",
       "    <tr style=\"text-align: right;\">\n",
       "      <th></th>\n",
       "      <th>index</th>\n",
       "      <th>SalePrice</th>\n",
       "    </tr>\n",
       "  </thead>\n",
       "  <tbody>\n",
       "    <tr>\n",
       "      <th>159</th>\n",
       "      <td>BsmtQual_Ex</td>\n",
       "      <td>0.553105</td>\n",
       "    </tr>\n",
       "    <tr>\n",
       "      <th>102</th>\n",
       "      <td>KitchenQual_Ex</td>\n",
       "      <td>0.504094</td>\n",
       "    </tr>\n",
       "    <tr>\n",
       "      <th>63</th>\n",
       "      <td>Foundation_PConc</td>\n",
       "      <td>0.497734</td>\n",
       "    </tr>\n",
       "    <tr>\n",
       "      <th>43</th>\n",
       "      <td>ExterQual_Gd</td>\n",
       "      <td>0.452466</td>\n",
       "    </tr>\n",
       "    <tr>\n",
       "      <th>41</th>\n",
       "      <td>ExterQual_Ex</td>\n",
       "      <td>0.451164</td>\n",
       "    </tr>\n",
       "    <tr>\n",
       "      <th>69</th>\n",
       "      <td>BsmtFinType1_GLQ</td>\n",
       "      <td>0.434597</td>\n",
       "    </tr>\n",
       "    <tr>\n",
       "      <th>240</th>\n",
       "      <td>HeatingQC_Ex</td>\n",
       "      <td>0.434543</td>\n",
       "    </tr>\n",
       "    <tr>\n",
       "      <th>223</th>\n",
       "      <td>GarageFinish_Fin</td>\n",
       "      <td>0.419678</td>\n",
       "    </tr>\n",
       "    <tr>\n",
       "      <th>179</th>\n",
       "      <td>Neighborhood_NridgHt</td>\n",
       "      <td>0.402149</td>\n",
       "    </tr>\n",
       "    <tr>\n",
       "      <th>20</th>\n",
       "      <td>SaleType_New</td>\n",
       "      <td>0.357509</td>\n",
       "    </tr>\n",
       "    <tr>\n",
       "      <th>90</th>\n",
       "      <td>SaleCondition_Partial</td>\n",
       "      <td>0.352060</td>\n",
       "    </tr>\n",
       "    <tr>\n",
       "      <th>110</th>\n",
       "      <td>FireplaceQu_Gd</td>\n",
       "      <td>0.339329</td>\n",
       "    </tr>\n",
       "    <tr>\n",
       "      <th>74</th>\n",
       "      <td>GarageType_Attchd</td>\n",
       "      <td>0.335961</td>\n",
       "    </tr>\n",
       "    <tr>\n",
       "      <th>84</th>\n",
       "      <td>MasVnrType_Stone</td>\n",
       "      <td>0.330476</td>\n",
       "    </tr>\n",
       "    <tr>\n",
       "      <th>178</th>\n",
       "      <td>Neighborhood_NoRidge</td>\n",
       "      <td>0.330424</td>\n",
       "    </tr>\n",
       "    <tr>\n",
       "      <th>104</th>\n",
       "      <td>KitchenQual_Gd</td>\n",
       "      <td>0.321641</td>\n",
       "    </tr>\n",
       "    <tr>\n",
       "      <th>205</th>\n",
       "      <td>BsmtExposure_Gd</td>\n",
       "      <td>0.307298</td>\n",
       "    </tr>\n",
       "    <tr>\n",
       "      <th>201</th>\n",
       "      <td>Exterior2nd_VinylSd</td>\n",
       "      <td>0.306389</td>\n",
       "    </tr>\n",
       "    <tr>\n",
       "      <th>125</th>\n",
       "      <td>Exterior1st_VinylSd</td>\n",
       "      <td>0.305009</td>\n",
       "    </tr>\n",
       "    <tr>\n",
       "      <th>149</th>\n",
       "      <td>GarageCond_TA</td>\n",
       "      <td>0.275872</td>\n",
       "    </tr>\n",
       "  </tbody>\n",
       "</table>\n",
       "</div>"
      ],
      "text/plain": [
       "                     index  SalePrice\n",
       "159            BsmtQual_Ex   0.553105\n",
       "102         KitchenQual_Ex   0.504094\n",
       "63        Foundation_PConc   0.497734\n",
       "43            ExterQual_Gd   0.452466\n",
       "41            ExterQual_Ex   0.451164\n",
       "69        BsmtFinType1_GLQ   0.434597\n",
       "240           HeatingQC_Ex   0.434543\n",
       "223       GarageFinish_Fin   0.419678\n",
       "179   Neighborhood_NridgHt   0.402149\n",
       "20            SaleType_New   0.357509\n",
       "90   SaleCondition_Partial   0.352060\n",
       "110         FireplaceQu_Gd   0.339329\n",
       "74       GarageType_Attchd   0.335961\n",
       "84        MasVnrType_Stone   0.330476\n",
       "178   Neighborhood_NoRidge   0.330424\n",
       "104         KitchenQual_Gd   0.321641\n",
       "205        BsmtExposure_Gd   0.307298\n",
       "201    Exterior2nd_VinylSd   0.306389\n",
       "125    Exterior1st_VinylSd   0.305009\n",
       "149          GarageCond_TA   0.275872"
      ]
     },
     "execution_count": 14,
     "metadata": {},
     "output_type": "execute_result"
    }
   ],
   "source": [
    "character_train = pd.get_dummies(train.loc[:,non_numerical_col + ['SalePrice']])\n",
    "scaler = StandardScaler()\n",
    "\n",
    "character_train.corr()['SalePrice'].reset_index()[1:].sort_values(by='SalePrice',ascending=False).head(20)"
   ]
  },
  {
   "cell_type": "code",
   "execution_count": 15,
   "metadata": {},
   "outputs": [
    {
     "data": {
      "text/html": [
       "<div>\n",
       "<style scoped>\n",
       "    .dataframe tbody tr th:only-of-type {\n",
       "        vertical-align: middle;\n",
       "    }\n",
       "\n",
       "    .dataframe tbody tr th {\n",
       "        vertical-align: top;\n",
       "    }\n",
       "\n",
       "    .dataframe thead th {\n",
       "        text-align: right;\n",
       "    }\n",
       "</style>\n",
       "<table border=\"1\" class=\"dataframe\">\n",
       "  <thead>\n",
       "    <tr style=\"text-align: right;\">\n",
       "      <th></th>\n",
       "      <th>index</th>\n",
       "      <th>SalePrice</th>\n",
       "    </tr>\n",
       "  </thead>\n",
       "  <tbody>\n",
       "    <tr>\n",
       "      <th>44</th>\n",
       "      <td>ExterQual_TA</td>\n",
       "      <td>-0.589044</td>\n",
       "    </tr>\n",
       "    <tr>\n",
       "      <th>105</th>\n",
       "      <td>KitchenQual_TA</td>\n",
       "      <td>-0.519298</td>\n",
       "    </tr>\n",
       "    <tr>\n",
       "      <th>162</th>\n",
       "      <td>BsmtQual_TA</td>\n",
       "      <td>-0.452394</td>\n",
       "    </tr>\n",
       "    <tr>\n",
       "      <th>225</th>\n",
       "      <td>GarageFinish_Unf</td>\n",
       "      <td>-0.410608</td>\n",
       "    </tr>\n",
       "    <tr>\n",
       "      <th>83</th>\n",
       "      <td>MasVnrType_None</td>\n",
       "      <td>-0.374468</td>\n",
       "    </tr>\n",
       "    <tr>\n",
       "      <th>78</th>\n",
       "      <td>GarageType_Detchd</td>\n",
       "      <td>-0.354141</td>\n",
       "    </tr>\n",
       "    <tr>\n",
       "      <th>62</th>\n",
       "      <td>Foundation_CBlock</td>\n",
       "      <td>-0.343263</td>\n",
       "    </tr>\n",
       "    <tr>\n",
       "      <th>244</th>\n",
       "      <td>HeatingQC_TA</td>\n",
       "      <td>-0.312677</td>\n",
       "    </tr>\n",
       "    <tr>\n",
       "      <th>132</th>\n",
       "      <td>MSZoning_RM</td>\n",
       "      <td>-0.288065</td>\n",
       "    </tr>\n",
       "    <tr>\n",
       "      <th>26</th>\n",
       "      <td>LotShape_Reg</td>\n",
       "      <td>-0.267672</td>\n",
       "    </tr>\n",
       "    <tr>\n",
       "      <th>207</th>\n",
       "      <td>BsmtExposure_No</td>\n",
       "      <td>-0.263600</td>\n",
       "    </tr>\n",
       "    <tr>\n",
       "      <th>106</th>\n",
       "      <td>CentralAir_N</td>\n",
       "      <td>-0.251328</td>\n",
       "    </tr>\n",
       "    <tr>\n",
       "      <th>22</th>\n",
       "      <td>SaleType_WD</td>\n",
       "      <td>-0.242598</td>\n",
       "    </tr>\n",
       "    <tr>\n",
       "      <th>248</th>\n",
       "      <td>RoofStyle_Gable</td>\n",
       "      <td>-0.224744</td>\n",
       "    </tr>\n",
       "    <tr>\n",
       "      <th>58</th>\n",
       "      <td>PavedDrive_N</td>\n",
       "      <td>-0.212630</td>\n",
       "    </tr>\n",
       "    <tr>\n",
       "      <th>61</th>\n",
       "      <td>Foundation_BrkTil</td>\n",
       "      <td>-0.204117</td>\n",
       "    </tr>\n",
       "    <tr>\n",
       "      <th>231</th>\n",
       "      <td>Electrical_FuseA</td>\n",
       "      <td>-0.193978</td>\n",
       "    </tr>\n",
       "    <tr>\n",
       "      <th>180</th>\n",
       "      <td>Neighborhood_OldTown</td>\n",
       "      <td>-0.192189</td>\n",
       "    </tr>\n",
       "    <tr>\n",
       "      <th>175</th>\n",
       "      <td>Neighborhood_NAmes</td>\n",
       "      <td>-0.188513</td>\n",
       "    </tr>\n",
       "    <tr>\n",
       "      <th>170</th>\n",
       "      <td>Neighborhood_Edwards</td>\n",
       "      <td>-0.179949</td>\n",
       "    </tr>\n",
       "  </tbody>\n",
       "</table>\n",
       "</div>"
      ],
      "text/plain": [
       "                    index  SalePrice\n",
       "44           ExterQual_TA  -0.589044\n",
       "105        KitchenQual_TA  -0.519298\n",
       "162           BsmtQual_TA  -0.452394\n",
       "225      GarageFinish_Unf  -0.410608\n",
       "83        MasVnrType_None  -0.374468\n",
       "78      GarageType_Detchd  -0.354141\n",
       "62      Foundation_CBlock  -0.343263\n",
       "244          HeatingQC_TA  -0.312677\n",
       "132           MSZoning_RM  -0.288065\n",
       "26           LotShape_Reg  -0.267672\n",
       "207       BsmtExposure_No  -0.263600\n",
       "106          CentralAir_N  -0.251328\n",
       "22            SaleType_WD  -0.242598\n",
       "248       RoofStyle_Gable  -0.224744\n",
       "58           PavedDrive_N  -0.212630\n",
       "61      Foundation_BrkTil  -0.204117\n",
       "231      Electrical_FuseA  -0.193978\n",
       "180  Neighborhood_OldTown  -0.192189\n",
       "175    Neighborhood_NAmes  -0.188513\n",
       "170  Neighborhood_Edwards  -0.179949"
      ]
     },
     "execution_count": 15,
     "metadata": {},
     "output_type": "execute_result"
    }
   ],
   "source": [
    "character_train.corr()['SalePrice'].reset_index()[1:].sort_values(by='SalePrice',ascending=True).head(20)"
   ]
  },
  {
   "cell_type": "code",
   "execution_count": 16,
   "metadata": {},
   "outputs": [
    {
     "data": {
      "text/html": [
       "<div>\n",
       "<style scoped>\n",
       "    .dataframe tbody tr th:only-of-type {\n",
       "        vertical-align: middle;\n",
       "    }\n",
       "\n",
       "    .dataframe tbody tr th {\n",
       "        vertical-align: top;\n",
       "    }\n",
       "\n",
       "    .dataframe thead th {\n",
       "        text-align: right;\n",
       "    }\n",
       "</style>\n",
       "<table border=\"1\" class=\"dataframe\">\n",
       "  <thead>\n",
       "    <tr style=\"text-align: right;\">\n",
       "      <th></th>\n",
       "      <th></th>\n",
       "      <th></th>\n",
       "      <th></th>\n",
       "      <th></th>\n",
       "      <th>min</th>\n",
       "      <th>max</th>\n",
       "      <th>mean</th>\n",
       "      <th>median</th>\n",
       "    </tr>\n",
       "    <tr>\n",
       "      <th>ExterQual</th>\n",
       "      <th>GarageFinish</th>\n",
       "      <th>OverallQual</th>\n",
       "      <th>TotRmsAbvGrd</th>\n",
       "      <th>KitchenAbvGr</th>\n",
       "      <th></th>\n",
       "      <th></th>\n",
       "      <th></th>\n",
       "      <th></th>\n",
       "    </tr>\n",
       "  </thead>\n",
       "  <tbody>\n",
       "    <tr>\n",
       "      <th rowspan=\"5\" valign=\"top\">Ex</th>\n",
       "      <th rowspan=\"5\" valign=\"top\">Fin</th>\n",
       "      <th>6</th>\n",
       "      <th>6</th>\n",
       "      <th>1</th>\n",
       "      <td>185000</td>\n",
       "      <td>185000</td>\n",
       "      <td>185000.000000</td>\n",
       "      <td>185000.0</td>\n",
       "    </tr>\n",
       "    <tr>\n",
       "      <th rowspan=\"2\" valign=\"top\">7</th>\n",
       "      <th>7</th>\n",
       "      <th>1</th>\n",
       "      <td>222000</td>\n",
       "      <td>222000</td>\n",
       "      <td>222000.000000</td>\n",
       "      <td>222000.0</td>\n",
       "    </tr>\n",
       "    <tr>\n",
       "      <th>8</th>\n",
       "      <th>1</th>\n",
       "      <td>311872</td>\n",
       "      <td>311872</td>\n",
       "      <td>311872.000000</td>\n",
       "      <td>311872.0</td>\n",
       "    </tr>\n",
       "    <tr>\n",
       "      <th rowspan=\"2\" valign=\"top\">8</th>\n",
       "      <th>5</th>\n",
       "      <th>1</th>\n",
       "      <td>392500</td>\n",
       "      <td>392500</td>\n",
       "      <td>392500.000000</td>\n",
       "      <td>392500.0</td>\n",
       "    </tr>\n",
       "    <tr>\n",
       "      <th>7</th>\n",
       "      <th>1</th>\n",
       "      <td>318000</td>\n",
       "      <td>394617</td>\n",
       "      <td>356308.500000</td>\n",
       "      <td>356308.5</td>\n",
       "    </tr>\n",
       "    <tr>\n",
       "      <th>...</th>\n",
       "      <th>...</th>\n",
       "      <th>...</th>\n",
       "      <th>...</th>\n",
       "      <th>...</th>\n",
       "      <td>...</td>\n",
       "      <td>...</td>\n",
       "      <td>...</td>\n",
       "      <td>...</td>\n",
       "    </tr>\n",
       "    <tr>\n",
       "      <th rowspan=\"5\" valign=\"top\">TA</th>\n",
       "      <th rowspan=\"5\" valign=\"top\">Unf</th>\n",
       "      <th rowspan=\"2\" valign=\"top\">7</th>\n",
       "      <th>10</th>\n",
       "      <th>1</th>\n",
       "      <td>244400</td>\n",
       "      <td>295000</td>\n",
       "      <td>267226.666667</td>\n",
       "      <td>262280.0</td>\n",
       "    </tr>\n",
       "    <tr>\n",
       "      <th>11</th>\n",
       "      <th>1</th>\n",
       "      <td>320000</td>\n",
       "      <td>320000</td>\n",
       "      <td>320000.000000</td>\n",
       "      <td>320000.0</td>\n",
       "    </tr>\n",
       "    <tr>\n",
       "      <th rowspan=\"3\" valign=\"top\">8</th>\n",
       "      <th>7</th>\n",
       "      <th>1</th>\n",
       "      <td>161000</td>\n",
       "      <td>230000</td>\n",
       "      <td>195500.000000</td>\n",
       "      <td>195500.0</td>\n",
       "    </tr>\n",
       "    <tr>\n",
       "      <th>10</th>\n",
       "      <th>1</th>\n",
       "      <td>359100</td>\n",
       "      <td>359100</td>\n",
       "      <td>359100.000000</td>\n",
       "      <td>359100.0</td>\n",
       "    </tr>\n",
       "    <tr>\n",
       "      <th>11</th>\n",
       "      <th>1</th>\n",
       "      <td>381000</td>\n",
       "      <td>381000</td>\n",
       "      <td>381000.000000</td>\n",
       "      <td>381000.0</td>\n",
       "    </tr>\n",
       "  </tbody>\n",
       "</table>\n",
       "<p>218 rows × 4 columns</p>\n",
       "</div>"
      ],
      "text/plain": [
       "                                                                 min     max  \\\n",
       "ExterQual GarageFinish OverallQual TotRmsAbvGrd KitchenAbvGr                   \n",
       "Ex        Fin          6           6            1             185000  185000   \n",
       "                       7           7            1             222000  222000   \n",
       "                                   8            1             311872  311872   \n",
       "                       8           5            1             392500  392500   \n",
       "                                   7            1             318000  394617   \n",
       "...                                                              ...     ...   \n",
       "TA        Unf          7           10           1             244400  295000   \n",
       "                                   11           1             320000  320000   \n",
       "                       8           7            1             161000  230000   \n",
       "                                   10           1             359100  359100   \n",
       "                                   11           1             381000  381000   \n",
       "\n",
       "                                                                       mean  \\\n",
       "ExterQual GarageFinish OverallQual TotRmsAbvGrd KitchenAbvGr                  \n",
       "Ex        Fin          6           6            1             185000.000000   \n",
       "                       7           7            1             222000.000000   \n",
       "                                   8            1             311872.000000   \n",
       "                       8           5            1             392500.000000   \n",
       "                                   7            1             356308.500000   \n",
       "...                                                                     ...   \n",
       "TA        Unf          7           10           1             267226.666667   \n",
       "                                   11           1             320000.000000   \n",
       "                       8           7            1             195500.000000   \n",
       "                                   10           1             359100.000000   \n",
       "                                   11           1             381000.000000   \n",
       "\n",
       "                                                                median  \n",
       "ExterQual GarageFinish OverallQual TotRmsAbvGrd KitchenAbvGr            \n",
       "Ex        Fin          6           6            1             185000.0  \n",
       "                       7           7            1             222000.0  \n",
       "                                   8            1             311872.0  \n",
       "                       8           5            1             392500.0  \n",
       "                                   7            1             356308.5  \n",
       "...                                                                ...  \n",
       "TA        Unf          7           10           1             262280.0  \n",
       "                                   11           1             320000.0  \n",
       "                       8           7            1             195500.0  \n",
       "                                   10           1             359100.0  \n",
       "                                   11           1             381000.0  \n",
       "\n",
       "[218 rows x 4 columns]"
      ]
     },
     "execution_count": 16,
     "metadata": {},
     "output_type": "execute_result"
    }
   ],
   "source": [
    "train_grouped = train.groupby(of_interest).agg(['min', 'max', 'mean','median'])\n",
    "train_saleprice_grp = train_grouped['SalePrice']\n",
    "train_saleprice_grp"
   ]
  },
  {
   "cell_type": "code",
   "execution_count": 17,
   "metadata": {},
   "outputs": [
    {
     "name": "stderr",
     "output_type": "stream",
     "text": [
      "c:\\users\\oimar\\appdata\\local\\programs\\python\\python37\\lib\\site-packages\\pandas\\core\\indexing.py:1835: SettingWithCopyWarning: \n",
      "A value is trying to be set on a copy of a slice from a DataFrame.\n",
      "Try using .loc[row_indexer,col_indexer] = value instead\n",
      "\n",
      "See the caveats in the documentation: https://pandas.pydata.org/pandas-docs/stable/user_guide/indexing.html#returning-a-view-versus-a-copy\n",
      "  self._setitem_single_column(loc, value[:, i].tolist(), pi)\n"
     ]
    },
    {
     "data": {
      "text/html": [
       "<div>\n",
       "<style scoped>\n",
       "    .dataframe tbody tr th:only-of-type {\n",
       "        vertical-align: middle;\n",
       "    }\n",
       "\n",
       "    .dataframe tbody tr th {\n",
       "        vertical-align: top;\n",
       "    }\n",
       "\n",
       "    .dataframe thead th {\n",
       "        text-align: right;\n",
       "    }\n",
       "</style>\n",
       "<table border=\"1\" class=\"dataframe\">\n",
       "  <thead>\n",
       "    <tr style=\"text-align: right;\">\n",
       "      <th></th>\n",
       "      <th></th>\n",
       "      <th></th>\n",
       "      <th></th>\n",
       "      <th></th>\n",
       "      <th>min</th>\n",
       "      <th>max</th>\n",
       "      <th>mean</th>\n",
       "      <th>median</th>\n",
       "    </tr>\n",
       "    <tr>\n",
       "      <th>ExterQual</th>\n",
       "      <th>GarageFinish</th>\n",
       "      <th>OverallQual</th>\n",
       "      <th>TotRmsAbvGrd</th>\n",
       "      <th>KitchenAbvGr</th>\n",
       "      <th></th>\n",
       "      <th></th>\n",
       "      <th></th>\n",
       "      <th></th>\n",
       "    </tr>\n",
       "  </thead>\n",
       "  <tbody>\n",
       "    <tr>\n",
       "      <th rowspan=\"5\" valign=\"top\">Ex</th>\n",
       "      <th rowspan=\"5\" valign=\"top\">Fin</th>\n",
       "      <th>6</th>\n",
       "      <th>6</th>\n",
       "      <th>1</th>\n",
       "      <td>-0.003977</td>\n",
       "      <td>-0.475248</td>\n",
       "      <td>-0.248115</td>\n",
       "      <td>-0.235795</td>\n",
       "    </tr>\n",
       "    <tr>\n",
       "      <th rowspan=\"2\" valign=\"top\">7</th>\n",
       "      <th>7</th>\n",
       "      <th>1</th>\n",
       "      <td>0.368132</td>\n",
       "      <td>-0.157941</td>\n",
       "      <td>0.112687</td>\n",
       "      <td>0.126388</td>\n",
       "    </tr>\n",
       "    <tr>\n",
       "      <th>8</th>\n",
       "      <th>1</th>\n",
       "      <td>1.271975</td>\n",
       "      <td>0.612788</td>\n",
       "      <td>0.989063</td>\n",
       "      <td>1.006120</td>\n",
       "    </tr>\n",
       "    <tr>\n",
       "      <th rowspan=\"2\" valign=\"top\">8</th>\n",
       "      <th>5</th>\n",
       "      <th>1</th>\n",
       "      <td>2.082851</td>\n",
       "      <td>1.304242</td>\n",
       "      <td>1.775298</td>\n",
       "      <td>1.795365</td>\n",
       "    </tr>\n",
       "    <tr>\n",
       "      <th>7</th>\n",
       "      <th>1</th>\n",
       "      <td>1.333604</td>\n",
       "      <td>1.322397</td>\n",
       "      <td>1.422381</td>\n",
       "      <td>1.441097</td>\n",
       "    </tr>\n",
       "    <tr>\n",
       "      <th>...</th>\n",
       "      <th>...</th>\n",
       "      <th>...</th>\n",
       "      <th>...</th>\n",
       "      <th>...</th>\n",
       "      <td>...</td>\n",
       "      <td>...</td>\n",
       "      <td>...</td>\n",
       "      <td>...</td>\n",
       "    </tr>\n",
       "    <tr>\n",
       "      <th rowspan=\"5\" valign=\"top\">TA</th>\n",
       "      <th rowspan=\"5\" valign=\"top\">Unf</th>\n",
       "      <th rowspan=\"2\" valign=\"top\">7</th>\n",
       "      <th>10</th>\n",
       "      <th>1</th>\n",
       "      <td>0.593409</td>\n",
       "      <td>0.468096</td>\n",
       "      <td>0.553709</td>\n",
       "      <td>0.520678</td>\n",
       "    </tr>\n",
       "    <tr>\n",
       "      <th>11</th>\n",
       "      <th>1</th>\n",
       "      <td>1.353718</td>\n",
       "      <td>0.682493</td>\n",
       "      <td>1.068323</td>\n",
       "      <td>1.085683</td>\n",
       "    </tr>\n",
       "    <tr>\n",
       "      <th rowspan=\"3\" valign=\"top\">8</th>\n",
       "      <th>7</th>\n",
       "      <th>1</th>\n",
       "      <td>-0.245345</td>\n",
       "      <td>-0.089335</td>\n",
       "      <td>-0.145725</td>\n",
       "      <td>-0.133013</td>\n",
       "    </tr>\n",
       "    <tr>\n",
       "      <th>10</th>\n",
       "      <th>1</th>\n",
       "      <td>1.746947</td>\n",
       "      <td>1.017809</td>\n",
       "      <td>1.449602</td>\n",
       "      <td>1.468422</td>\n",
       "    </tr>\n",
       "    <tr>\n",
       "      <th>11</th>\n",
       "      <th>1</th>\n",
       "      <td>1.967195</td>\n",
       "      <td>1.205620</td>\n",
       "      <td>1.663157</td>\n",
       "      <td>1.682795</td>\n",
       "    </tr>\n",
       "  </tbody>\n",
       "</table>\n",
       "<p>218 rows × 4 columns</p>\n",
       "</div>"
      ],
      "text/plain": [
       "                                                                   min  \\\n",
       "ExterQual GarageFinish OverallQual TotRmsAbvGrd KitchenAbvGr             \n",
       "Ex        Fin          6           6            1            -0.003977   \n",
       "                       7           7            1             0.368132   \n",
       "                                   8            1             1.271975   \n",
       "                       8           5            1             2.082851   \n",
       "                                   7            1             1.333604   \n",
       "...                                                                ...   \n",
       "TA        Unf          7           10           1             0.593409   \n",
       "                                   11           1             1.353718   \n",
       "                       8           7            1            -0.245345   \n",
       "                                   10           1             1.746947   \n",
       "                                   11           1             1.967195   \n",
       "\n",
       "                                                                   max  \\\n",
       "ExterQual GarageFinish OverallQual TotRmsAbvGrd KitchenAbvGr             \n",
       "Ex        Fin          6           6            1            -0.475248   \n",
       "                       7           7            1            -0.157941   \n",
       "                                   8            1             0.612788   \n",
       "                       8           5            1             1.304242   \n",
       "                                   7            1             1.322397   \n",
       "...                                                                ...   \n",
       "TA        Unf          7           10           1             0.468096   \n",
       "                                   11           1             0.682493   \n",
       "                       8           7            1            -0.089335   \n",
       "                                   10           1             1.017809   \n",
       "                                   11           1             1.205620   \n",
       "\n",
       "                                                                  mean  \\\n",
       "ExterQual GarageFinish OverallQual TotRmsAbvGrd KitchenAbvGr             \n",
       "Ex        Fin          6           6            1            -0.248115   \n",
       "                       7           7            1             0.112687   \n",
       "                                   8            1             0.989063   \n",
       "                       8           5            1             1.775298   \n",
       "                                   7            1             1.422381   \n",
       "...                                                                ...   \n",
       "TA        Unf          7           10           1             0.553709   \n",
       "                                   11           1             1.068323   \n",
       "                       8           7            1            -0.145725   \n",
       "                                   10           1             1.449602   \n",
       "                                   11           1             1.663157   \n",
       "\n",
       "                                                                median  \n",
       "ExterQual GarageFinish OverallQual TotRmsAbvGrd KitchenAbvGr            \n",
       "Ex        Fin          6           6            1            -0.235795  \n",
       "                       7           7            1             0.126388  \n",
       "                                   8            1             1.006120  \n",
       "                       8           5            1             1.795365  \n",
       "                                   7            1             1.441097  \n",
       "...                                                                ...  \n",
       "TA        Unf          7           10           1             0.520678  \n",
       "                                   11           1             1.085683  \n",
       "                       8           7            1            -0.133013  \n",
       "                                   10           1             1.468422  \n",
       "                                   11           1             1.682795  \n",
       "\n",
       "[218 rows x 4 columns]"
      ]
     },
     "metadata": {},
     "output_type": "display_data"
    }
   ],
   "source": [
    "scaler = StandardScaler()\n",
    "variables = ['min', 'max', 'mean', 'median']\n",
    "\n",
    "train_standard = train_saleprice_grp\n",
    "train_standard.loc[:, variables] = scaler.fit_transform(train_saleprice_grp[variables])\n",
    "display(train_standard)"
   ]
  },
  {
   "cell_type": "code",
   "execution_count": 18,
   "metadata": {
    "scrolled": false
   },
   "outputs": [
    {
     "name": "stderr",
     "output_type": "stream",
     "text": [
      "c:\\users\\oimar\\appdata\\local\\programs\\python\\python37\\lib\\site-packages\\pandas\\core\\frame.py:3678: SettingWithCopyWarning: \n",
      "A value is trying to be set on a copy of a slice from a DataFrame.\n",
      "Try using .loc[row_indexer,col_indexer] = value instead\n",
      "\n",
      "See the caveats in the documentation: https://pandas.pydata.org/pandas-docs/stable/user_guide/indexing.html#returning-a-view-versus-a-copy\n",
      "  self[col] = igetitem(value, i)\n"
     ]
    },
    {
     "data": {
      "text/html": [
       "<div>\n",
       "<style scoped>\n",
       "    .dataframe tbody tr th:only-of-type {\n",
       "        vertical-align: middle;\n",
       "    }\n",
       "\n",
       "    .dataframe tbody tr th {\n",
       "        vertical-align: top;\n",
       "    }\n",
       "\n",
       "    .dataframe thead th {\n",
       "        text-align: right;\n",
       "    }\n",
       "</style>\n",
       "<table border=\"1\" class=\"dataframe\">\n",
       "  <thead>\n",
       "    <tr style=\"text-align: right;\">\n",
       "      <th></th>\n",
       "      <th></th>\n",
       "      <th></th>\n",
       "      <th></th>\n",
       "      <th></th>\n",
       "      <th>min</th>\n",
       "      <th>max</th>\n",
       "      <th>mean</th>\n",
       "      <th>median</th>\n",
       "    </tr>\n",
       "    <tr>\n",
       "      <th>ExterQual</th>\n",
       "      <th>GarageFinish</th>\n",
       "      <th>OverallQual</th>\n",
       "      <th>TotRmsAbvGrd</th>\n",
       "      <th>KitchenAbvGr</th>\n",
       "      <th></th>\n",
       "      <th></th>\n",
       "      <th></th>\n",
       "      <th></th>\n",
       "    </tr>\n",
       "  </thead>\n",
       "  <tbody>\n",
       "    <tr>\n",
       "      <th rowspan=\"5\" valign=\"top\">Ex</th>\n",
       "      <th rowspan=\"5\" valign=\"top\">Fin</th>\n",
       "      <th>6</th>\n",
       "      <th>6</th>\n",
       "      <th>1</th>\n",
       "      <td>0.253844</td>\n",
       "      <td>0.207991</td>\n",
       "      <td>0.230401</td>\n",
       "      <td>0.230401</td>\n",
       "    </tr>\n",
       "    <tr>\n",
       "      <th rowspan=\"2\" valign=\"top\">7</th>\n",
       "      <th>7</th>\n",
       "      <th>1</th>\n",
       "      <td>0.316589</td>\n",
       "      <td>0.259402</td>\n",
       "      <td>0.287351</td>\n",
       "      <td>0.287351</td>\n",
       "    </tr>\n",
       "    <tr>\n",
       "      <th>8</th>\n",
       "      <th>1</th>\n",
       "      <td>0.468995</td>\n",
       "      <td>0.384278</td>\n",
       "      <td>0.425682</td>\n",
       "      <td>0.425682</td>\n",
       "    </tr>\n",
       "    <tr>\n",
       "      <th rowspan=\"2\" valign=\"top\">8</th>\n",
       "      <th>5</th>\n",
       "      <th>1</th>\n",
       "      <td>0.605724</td>\n",
       "      <td>0.496310</td>\n",
       "      <td>0.549785</td>\n",
       "      <td>0.549785</td>\n",
       "    </tr>\n",
       "    <tr>\n",
       "      <th>7</th>\n",
       "      <th>1</th>\n",
       "      <td>0.479387</td>\n",
       "      <td>0.499252</td>\n",
       "      <td>0.494079</td>\n",
       "      <td>0.494079</td>\n",
       "    </tr>\n",
       "    <tr>\n",
       "      <th>...</th>\n",
       "      <th>...</th>\n",
       "      <th>...</th>\n",
       "      <th>...</th>\n",
       "      <th>...</th>\n",
       "      <td>...</td>\n",
       "      <td>...</td>\n",
       "      <td>...</td>\n",
       "      <td>...</td>\n",
       "    </tr>\n",
       "    <tr>\n",
       "      <th rowspan=\"5\" valign=\"top\">TA</th>\n",
       "      <th rowspan=\"5\" valign=\"top\">Unf</th>\n",
       "      <th rowspan=\"2\" valign=\"top\">7</th>\n",
       "      <th>10</th>\n",
       "      <th>1</th>\n",
       "      <td>0.354575</td>\n",
       "      <td>0.360835</td>\n",
       "      <td>0.356964</td>\n",
       "      <td>0.349350</td>\n",
       "    </tr>\n",
       "    <tr>\n",
       "      <th>11</th>\n",
       "      <th>1</th>\n",
       "      <td>0.482778</td>\n",
       "      <td>0.395572</td>\n",
       "      <td>0.438193</td>\n",
       "      <td>0.438193</td>\n",
       "    </tr>\n",
       "    <tr>\n",
       "      <th rowspan=\"3\" valign=\"top\">8</th>\n",
       "      <th>7</th>\n",
       "      <th>1</th>\n",
       "      <td>0.213145</td>\n",
       "      <td>0.270518</td>\n",
       "      <td>0.246563</td>\n",
       "      <td>0.246563</td>\n",
       "    </tr>\n",
       "    <tr>\n",
       "      <th>10</th>\n",
       "      <th>1</th>\n",
       "      <td>0.549084</td>\n",
       "      <td>0.449901</td>\n",
       "      <td>0.498375</td>\n",
       "      <td>0.498375</td>\n",
       "    </tr>\n",
       "    <tr>\n",
       "      <th>11</th>\n",
       "      <th>1</th>\n",
       "      <td>0.586223</td>\n",
       "      <td>0.480331</td>\n",
       "      <td>0.532084</td>\n",
       "      <td>0.532084</td>\n",
       "    </tr>\n",
       "  </tbody>\n",
       "</table>\n",
       "<p>218 rows × 4 columns</p>\n",
       "</div>"
      ],
      "text/plain": [
       "                                                                   min  \\\n",
       "ExterQual GarageFinish OverallQual TotRmsAbvGrd KitchenAbvGr             \n",
       "Ex        Fin          6           6            1             0.253844   \n",
       "                       7           7            1             0.316589   \n",
       "                                   8            1             0.468995   \n",
       "                       8           5            1             0.605724   \n",
       "                                   7            1             0.479387   \n",
       "...                                                                ...   \n",
       "TA        Unf          7           10           1             0.354575   \n",
       "                                   11           1             0.482778   \n",
       "                       8           7            1             0.213145   \n",
       "                                   10           1             0.549084   \n",
       "                                   11           1             0.586223   \n",
       "\n",
       "                                                                   max  \\\n",
       "ExterQual GarageFinish OverallQual TotRmsAbvGrd KitchenAbvGr             \n",
       "Ex        Fin          6           6            1             0.207991   \n",
       "                       7           7            1             0.259402   \n",
       "                                   8            1             0.384278   \n",
       "                       8           5            1             0.496310   \n",
       "                                   7            1             0.499252   \n",
       "...                                                                ...   \n",
       "TA        Unf          7           10           1             0.360835   \n",
       "                                   11           1             0.395572   \n",
       "                       8           7            1             0.270518   \n",
       "                                   10           1             0.449901   \n",
       "                                   11           1             0.480331   \n",
       "\n",
       "                                                                  mean  \\\n",
       "ExterQual GarageFinish OverallQual TotRmsAbvGrd KitchenAbvGr             \n",
       "Ex        Fin          6           6            1             0.230401   \n",
       "                       7           7            1             0.287351   \n",
       "                                   8            1             0.425682   \n",
       "                       8           5            1             0.549785   \n",
       "                                   7            1             0.494079   \n",
       "...                                                                ...   \n",
       "TA        Unf          7           10           1             0.356964   \n",
       "                                   11           1             0.438193   \n",
       "                       8           7            1             0.246563   \n",
       "                                   10           1             0.498375   \n",
       "                                   11           1             0.532084   \n",
       "\n",
       "                                                                median  \n",
       "ExterQual GarageFinish OverallQual TotRmsAbvGrd KitchenAbvGr            \n",
       "Ex        Fin          6           6            1             0.230401  \n",
       "                       7           7            1             0.287351  \n",
       "                                   8            1             0.425682  \n",
       "                       8           5            1             0.549785  \n",
       "                                   7            1             0.494079  \n",
       "...                                                                ...  \n",
       "TA        Unf          7           10           1             0.349350  \n",
       "                                   11           1             0.438193  \n",
       "                       8           7            1             0.246563  \n",
       "                                   10           1             0.498375  \n",
       "                                   11           1             0.532084  \n",
       "\n",
       "[218 rows x 4 columns]"
      ]
     },
     "metadata": {},
     "output_type": "display_data"
    }
   ],
   "source": [
    "mm_scaler = MinMaxScaler()\n",
    "\n",
    "train_minmax = train_saleprice_grp\n",
    "mm_scaler.fit(train_saleprice_grp[variables])\n",
    "\n",
    "train_minmax[variables] = mm_scaler.fit_transform(train_saleprice_grp[variables])\n",
    "display(train_minmax)"
   ]
  }
 ],
 "metadata": {
  "kernelspec": {
   "display_name": "Python 3",
   "language": "python",
   "name": "python3"
  },
  "language_info": {
   "codemirror_mode": {
    "name": "ipython",
    "version": 3
   },
   "file_extension": ".py",
   "mimetype": "text/x-python",
   "name": "python",
   "nbconvert_exporter": "python",
   "pygments_lexer": "ipython3",
   "version": "3.7.7"
  }
 },
 "nbformat": 4,
 "nbformat_minor": 4
}
